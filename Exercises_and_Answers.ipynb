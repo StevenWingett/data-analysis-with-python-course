{
 "cells": [
  {
   "cell_type": "markdown",
   "id": "b9e7a7e8-1d0f-42e5-b61b-3c7e40738847",
   "metadata": {},
   "source": [
    "<table>\n",
    "  <tr>\n",
    "    <td><p style=\"font-size:45px; color: #55BBD2\">Data Analysis with Python</p></td>\n",
    "    <td><img src=\"course_images/lmb_logo.svg\" alt=\"LMB Logo\" width=\"500\" height=\"600\" align=\"right\"></td>\n",
    "  </tr>\n",
    "</table>\n",
    "<table>\n",
    "  <tr>\n",
    "    <td><p style=\"font-size:15px; color: #55BBD2\">Version: May 2025</p></td>\n",
    "  </tr>\n",
    "</table>"
   ]
  },
  {
   "cell_type": "markdown",
   "id": "cbfb58f2-9e06-4b18-9371-e6517a1f700e",
   "metadata": {},
   "source": [
    "# Licence\n",
    "\n",
    "This manual is © 2025, Steven Wingett\n",
    "\n",
    "This manual is distributed under the creative commons Attribution-Non-Commercial-Share Alike 2.0 licence. This means that you are free:\n",
    "\n",
    "•\tto copy, distribute, display, and perform the work\n",
    "\n",
    "•\tto make derivative works\n",
    "\n",
    "\n",
    "Under the following conditions:\n",
    "\n",
    "•\tAttribution. You must give the original author credit.\n",
    "\n",
    "•\tNon-Commercial. You may not use this work for commercial purposes.\n",
    "\n",
    "•\tShare Alike. If you alter, transform, or build upon this work, you may distribute the resulting work only under a licence identical to this one.\n",
    "\n",
    "Please note that:\n",
    "\n",
    "•\tFor any reuse or distribution, you must make clear to others the licence terms of this work.\n",
    "•\tAny of these conditions can be waived if you get permission from the copyright holder.\n",
    "•\tNothing in this license impairs or restricts the author's moral rights.\n",
    "\n",
    "Full details of this licence can be found at \n",
    "http://creativecommons.org/licenses/by-nc-sa/2.0/uk/legalcode"
   ]
  },
  {
   "cell_type": "markdown",
   "id": "c3656dfb-6941-42e0-9b26-7d845758b191",
   "metadata": {},
   "source": [
    "# Exercises and Answers\n",
    "\n",
    "Please note that exercises prefixed with an asterisk (\\*) need not be completed during the course as these are typically more challenging questions.  Having said that, if you are getting ahead during the course and have time to try them, well why not give them a go."
   ]
  },
  {
   "cell_type": "markdown",
   "id": "21733978-c5fe-4628-af22-903effe8a636",
   "metadata": {
    "tags": []
   },
   "source": [
    "<div class=\"alert alert-success\">\n",
    "\n",
    "## Exercise 1\n",
    "\n",
    "**a1.** Open JupyterLab (using JupyterHub on the LMB's intranet, or on your local machine.)\n",
    "\n",
    "**a2.** Open the course notebook by clicking on the link given to you.\n",
    "</div>"
   ]
  },
  {
   "cell_type": "markdown",
   "id": "d0154f37-0b47-4321-9bea-22ae1503ca94",
   "metadata": {},
   "source": [
    "Talk through answers."
   ]
  },
  {
   "cell_type": "markdown",
   "id": "8ae6fa55-ee30-40e9-b410-d758f7dc91df",
   "metadata": {},
   "source": [
    "<hr>"
   ]
  },
  {
   "cell_type": "markdown",
   "id": "088fe683-93dc-497a-a5fe-65658af3ded3",
   "metadata": {},
   "source": [
    "<div class=\"alert alert-success\">\n",
    "\n",
    "## Exercise 2\n",
    "\n",
    "**a1.** Open a new notebook.\n",
    "\n",
    "**a2.** In the first cell on the notebook enter the code:\n",
    "\n",
    "`print('Hello World!')`\n",
    "\n",
    "Then run the cell.  What do you see?\n",
    "\n",
    "**a3.** Create a new cell and convert it to a markdown cell.  Enter the text:\n",
    "\n",
    "`This is regular font`\n",
    "\n",
    "`*This is in italics*`\n",
    "\n",
    "`**This is in bold**`\n",
    "\n",
    "`` `This is in-code highlighting` ``\n",
    "\n",
    "`# Heading1`\n",
    "\n",
    "`## Heading2`\n",
    "\n",
    "`### Heading3`\n",
    "\n",
    "Then run the cell.  What do you see?\n",
    "\n",
    "**a4.** Move the markdown cell to the top of the notebook.\n",
    "\n",
    "**a5.** Copy the first cell and convert it to raw format.  Run the cell.  What is the output?\n",
    "\n",
    "**a6.** Delete the cell you have just made.  \n",
    "\n",
    "**a7.** Save the notebook in your current directory and name it: \"my_saved_notebook.ipynb\".  \n",
    "\n",
    "**a8.** Close the notebook.\n",
    "\n",
    "<hr>\n",
    "\n",
    "**b1.** Re-open the notebook you have just made and run the following magic command in a code cell.  What is it telling you?\n",
    "\n",
    "`%pwd`\n",
    "\n",
    "**b2.** Copy and paste the code below into cell and run the cell.  What do you see?\n",
    "\n",
    "    import seaborn as sns\n",
    "    df = sns.load_dataset(\"penguins\")\n",
    "    df   \n",
    "    \n",
    "<br>    \n",
    "    \n",
    "**b3.** Copy and paste the code below into a cell and run the cell.  What do you see?   \n",
    "\n",
    "    sns.pairplot(df, hue=\"species\")\n",
    "<br>\n",
    "\n",
    "**b4.** Export this notebook as an HTML file.\n",
    "\n",
    "<hr>\n",
    "\n",
    "**c1.** Using the file navigator menu in JupyterLab, look in the folder \"course_exercises_data\"\n",
    "\n",
    "You should be able to see files in there.\n",
    "\n",
    "**c2.** Open the file \"data.tsv\" with JupyterLab.  What is the data?\n",
    "\n",
    "**c3.** Open the file \"image.svg\" with JupyterLab.  What is the image?  Can you rotate the image and zoom-in / zoom-out?\n",
    "\n",
    "<hr>\n",
    "\n",
    "</div>"
   ]
  },
  {
   "cell_type": "markdown",
   "id": "dbde180c-ce82-4e8c-8985-292ace55e8ab",
   "metadata": {},
   "source": [
    "Talk through answers."
   ]
  },
  {
   "cell_type": "markdown",
   "id": "a8e31a63-ed9b-476d-b9af-9096c9e5ce1b",
   "metadata": {},
   "source": [
    "<hr>"
   ]
  },
  {
   "cell_type": "markdown",
   "id": "9b60749e-7ac7-4a0a-99f5-e76086705934",
   "metadata": {},
   "source": [
    "<div class=\"alert alert-success\">\n",
    "    \n",
    "## Exercise 3\n",
    "\n",
    "Calculate in code cells:\n",
    "\n",
    "**a1.** Five plus seven (5 + 7)\n",
    "\n",
    "**a2.**\tEight minus ten\n",
    "\n",
    "**a3.** Nine multiplied by eleven\n",
    "\n",
    "**a4.** Minus fifteen divided by three\n",
    "\n",
    "**a5.** Three cubed\n",
    "\n",
    "\n",
    "<hr>\n",
    "\n",
    "Calculate in code cells:\n",
    "\n",
    "**b1.** The square root of 2 (remember: determining the nth root of a number is the same as raising that number to the power of 1/n).\n",
    "\n",
    "**b2** One trillion is 1,000,000,000,000.  Multiply 3.2 trillion by 2.5.  To simplify this calculation, use scientific notation to represent a trillion.\n",
    "\n",
    "**b3** Determine the value in grams of 2.3 picograms multiplied by 45.3.\n",
    "\n",
    "<hr>\n",
    "\n",
    "Write **one-line expressions** to do the following comparisons.  The answer should be a **boolean** value.\n",
    "\n",
    "**c1.** Evaluate whether 0 is equal to -0\n",
    "\n",
    "**c2.**\tEvaluate whether 10 is not equal to 10.000\n",
    "\n",
    "**c3.** Evaluate whether (856 * 7) is greater than (864 * 7.2)\n",
    "\n",
    "**c4.** Is 9 / 3 less than or equal to 33 / 11?\n",
    "\n",
    "<hr>\n",
    "    \n",
    "Use a code cell to write **one-line expressions** to calculate the following (use parentheses to make the calculations more readable):\n",
    "\n",
    "**d1.**  I buy 5 sandwiches at £1.20 and 8 rolls at £2.15.  How much will they all cost?\n",
    "\n",
    "**d2** One thousand pounds is shared equally between 20 men and 30 women.  How much does each person receive?\n",
    "\n",
    "**d3** I work for 3 hours at £15.20 per hour, 9 hours at £17.45 per hour and 2 hours at £24.00 per hour.  I then pay 20% income tax on the money earned.  How much money do I take home?    \n",
    "    \n",
    "<hr>    \n",
    "\n",
    "**e1.** Concatenate the following strings into a single one-line string: \\\n",
    "Con \\\n",
    "cat \\\n",
    "en \\\n",
    "ate\n",
    "\n",
    "**e2.** Concatenate the phrase “To be or not to be” from its constituent words (think about how to create the spaces between words).\n",
    "\n",
    "**e3.** Write a single-line expression that comprises the following phrase 20 times: \"All work and no play makes Jack a dull boy\". (You don't need to type out the phrase 20 times!)\n",
    "\n",
    "<hr>    \n",
    "    \n",
    "**f1.** You are given the following protein sequence:\n",
    "    \n",
    "MKNTVKLSLIGFVMLTVLLLGETVIAQKRKPCYSQEPDKTCEVNRCKANCVKKHKKILAFTSCIKENNGNMYCRCQYPCPP\n",
    "    \n",
    "What is the 42nd amino acid in this peptide (using a 1-based co-ordinate system)?\n",
    "    \n",
    "**f2.** Extract the signal peptide, which encompasses positions 1 to 26 (using a 1-based co-ordinate system).\n",
    "    \n",
    "**f3.** Extract the remainder of the peptide.\n",
    "    \n",
    "**f4.** Extract the last 10 amino acids.\n",
    "\n",
    "**f5.** Extract every 5th amino acid in the sequence.\n",
    " \n",
    "**\\*f6.** Reverse the sequence. \n",
    "</div>"
   ]
  },
  {
   "cell_type": "code",
   "execution_count": null,
   "id": "6faa28a7-abec-4c04-ad3b-8a2973c8d61c",
   "metadata": {},
   "outputs": [],
   "source": [
    "# a1.\n",
    "5 + 7"
   ]
  },
  {
   "cell_type": "code",
   "execution_count": null,
   "id": "537f9520-f17d-4d7a-8b5e-fc31c33cd106",
   "metadata": {},
   "outputs": [],
   "source": [
    "# a2.\n",
    "8 - 10"
   ]
  },
  {
   "cell_type": "code",
   "execution_count": null,
   "id": "c6795733-26dd-4f62-8663-5bf2805a2dc5",
   "metadata": {},
   "outputs": [],
   "source": [
    "# a3.\n",
    "9 * 11"
   ]
  },
  {
   "cell_type": "code",
   "execution_count": null,
   "id": "df46fcd7-fcf6-4540-86b1-e45ed1649638",
   "metadata": {},
   "outputs": [],
   "source": [
    "# a4. \n",
    "-15 / 3"
   ]
  },
  {
   "cell_type": "code",
   "execution_count": null,
   "id": "6239c832-73e1-4749-8e57-d5999b057f52",
   "metadata": {
    "tags": []
   },
   "outputs": [],
   "source": [
    "# a5.\n",
    "3 ** 3"
   ]
  },
  {
   "cell_type": "markdown",
   "id": "882d25a1-458a-4cec-8894-ea95c4e1ce57",
   "metadata": {},
   "source": [
    "<hr>"
   ]
  },
  {
   "cell_type": "code",
   "execution_count": null,
   "id": "7f855be3-f703-4777-a463-a1e4a976ceab",
   "metadata": {},
   "outputs": [],
   "source": [
    "# b1.\n",
    "2 ** 0.5"
   ]
  },
  {
   "cell_type": "code",
   "execution_count": null,
   "id": "01a7cb5a-54b9-4b3d-8544-124643265ff5",
   "metadata": {
    "tags": []
   },
   "outputs": [],
   "source": [
    "# b2.\n",
    "3.2E12 * 2.5"
   ]
  },
  {
   "cell_type": "code",
   "execution_count": null,
   "id": "c57f5371-cc8b-4bff-a9ea-83b7383482c1",
   "metadata": {},
   "outputs": [],
   "source": [
    "# b3.\n",
    "2.3E-12 * 45.3"
   ]
  },
  {
   "cell_type": "markdown",
   "id": "0959c128-69ab-4d52-a9d7-f4b54df6a75c",
   "metadata": {},
   "source": [
    "<hr>"
   ]
  },
  {
   "cell_type": "code",
   "execution_count": null,
   "id": "c4bce74f-6a37-4f9e-a447-6863928dc405",
   "metadata": {},
   "outputs": [],
   "source": [
    "# c1.\n",
    "0 == -0"
   ]
  },
  {
   "cell_type": "code",
   "execution_count": null,
   "id": "abe278f1-a4f1-4f3c-ac41-7db72a0bfe7a",
   "metadata": {
    "jp-MarkdownHeadingCollapsed": true,
    "tags": []
   },
   "outputs": [],
   "source": [
    "# c2.\n",
    "10 != 10.000"
   ]
  },
  {
   "cell_type": "code",
   "execution_count": null,
   "id": "33d2f246-c031-4777-88d7-ac308cd0c6db",
   "metadata": {},
   "outputs": [],
   "source": [
    "# c3.\n",
    "(856 * 7) > (864 * 7.2)"
   ]
  },
  {
   "cell_type": "code",
   "execution_count": null,
   "id": "6eef8be6-b8ab-4252-aeeb-2febc2cdac3c",
   "metadata": {},
   "outputs": [],
   "source": [
    "# c4.\n",
    "9/3 <= 33 / 11"
   ]
  },
  {
   "cell_type": "markdown",
   "id": "fc6e0c22-cc49-4740-aced-d4f3bf904e07",
   "metadata": {},
   "source": [
    "<hr>"
   ]
  },
  {
   "cell_type": "code",
   "execution_count": null,
   "id": "bd2ed744-dd11-40b7-9e2b-de8007501ad9",
   "metadata": {},
   "outputs": [],
   "source": [
    "# d1.\n",
    "(5 * 1.20) + (8 * 2.15)"
   ]
  },
  {
   "cell_type": "code",
   "execution_count": null,
   "id": "5e005885-31ec-4fe8-a0a9-e9a472969e80",
   "metadata": {},
   "outputs": [],
   "source": [
    "# d2.\n",
    "1000 / (20 + 30)"
   ]
  },
  {
   "cell_type": "code",
   "execution_count": null,
   "id": "79bdfc5e-4e8c-4019-a98c-cefc06300760",
   "metadata": {},
   "outputs": [],
   "source": [
    "# d3.\n",
    "((3 * 15.20) + (9 * 17.45) + (2 * 24.00)) * ((100 - 20) / 100)"
   ]
  },
  {
   "cell_type": "markdown",
   "id": "c3fa4205-fa9a-4111-a9c8-3aec49e6be75",
   "metadata": {},
   "source": [
    "<hr>"
   ]
  },
  {
   "cell_type": "code",
   "execution_count": null,
   "id": "19b8909d-01ca-4cc3-b4df-7b1bc7374b24",
   "metadata": {},
   "outputs": [],
   "source": [
    "# e1.\n",
    "'Con' + 'cat' + 'en' + 'ate'"
   ]
  },
  {
   "cell_type": "code",
   "execution_count": null,
   "id": "f7fce01e-c567-4f13-a32c-65640e7caf18",
   "metadata": {},
   "outputs": [],
   "source": [
    "# e2.\n",
    "'To' + ' ' + 'be' + ' ' + 'or' + ' ' + 'not' + ' ' + 'to' + ' ' + 'be'"
   ]
  },
  {
   "cell_type": "code",
   "execution_count": null,
   "id": "de7e9201-dd1d-4fca-8d83-e0b2651982bb",
   "metadata": {},
   "outputs": [],
   "source": [
    "# e3.\n",
    "'All work and no play makes Jack a dull boy ' * 20"
   ]
  },
  {
   "cell_type": "markdown",
   "id": "cf9c97bf-deed-44e9-b5b7-271380094a13",
   "metadata": {},
   "source": [
    "<hr>"
   ]
  },
  {
   "cell_type": "code",
   "execution_count": null,
   "id": "2218deb3-5f6b-4a34-ae86-2ad2ef8a5219",
   "metadata": {},
   "outputs": [],
   "source": [
    "# f1.\n",
    "'MKNTVKLSLIGFVMLTVLLLGETVIAQKRKPCYSQEPDKTCEVNRCKANCVKKHKKILAFTSCIKENNGNMYCRCQYPCPP'[41]"
   ]
  },
  {
   "cell_type": "code",
   "execution_count": null,
   "id": "9aca82a2-e944-4145-b4fb-e86f57cbf899",
   "metadata": {
    "tags": []
   },
   "outputs": [],
   "source": [
    "# f2.\n",
    "'MKNTVKLSLIGFVMLTVLLLGETVIAQKRKPCYSQEPDKTCEVNRCKANCVKKHKKILAFTSCIKENNGNMYCRCQYPCPP'[0:26]"
   ]
  },
  {
   "cell_type": "code",
   "execution_count": null,
   "id": "91e85891-9c7f-4ee1-b9cf-8ca7fdc96370",
   "metadata": {},
   "outputs": [],
   "source": [
    "# f3.\n",
    "'MKNTVKLSLIGFVMLTVLLLGETVIAQKRKPCYSQEPDKTCEVNRCKANCVKKHKKILAFTSCIKENNGNMYCRCQYPCPP'[26:]"
   ]
  },
  {
   "cell_type": "code",
   "execution_count": null,
   "id": "b3a26707-c911-4649-b10d-3d030bb9b52b",
   "metadata": {},
   "outputs": [],
   "source": [
    "# f4.\n",
    "'MKNTVKLSLIGFVMLTVLLLGETVIAQKRKPCYSQEPDKTCEVNRCKANCVKKHKKILAFTSCIKENNGNMYCRCQYPCPP'[-10:]"
   ]
  },
  {
   "cell_type": "code",
   "execution_count": null,
   "id": "08d223e4-5657-418e-a298-e6369bf2df4c",
   "metadata": {},
   "outputs": [],
   "source": [
    "# f5.\n",
    "'MKNTVKLSLIGFVMLTVLLLGETVIAQKRKPCYSQEPDKTCEVNRCKANCVKKHKKILAFTSCIKENNGNMYCRCQYPCPP'[4::5]"
   ]
  },
  {
   "cell_type": "code",
   "execution_count": null,
   "id": "22631bb7-bde0-4ac3-be65-f3853d8eaa04",
   "metadata": {
    "tags": []
   },
   "outputs": [],
   "source": [
    "# f6.\n",
    "'MKNTVKLSLIGFVMLTVLLLGETVIAQKRKPCYSQEPDKTCEVNRCKANCVKKHKKILAFTSCIKENNGNMYCRCQYPCPP'[::-1]"
   ]
  },
  {
   "cell_type": "markdown",
   "id": "605b7ad5-6491-4437-ba94-4bc8a24628fc",
   "metadata": {},
   "source": [
    "<hr>"
   ]
  },
  {
   "cell_type": "markdown",
   "id": "6ddbbf23-eaa7-441d-961b-1f0f7114ffd5",
   "metadata": {},
   "source": [
    "<div class=\"alert alert-success\">\n",
    "\n",
    "## Exercise 4\n",
    "\n",
    "**a1.** Check the datatype returned for each of the following calculations:\\\n",
    "i) 10 * 3\\\n",
    "ii) 22 / 7\\\n",
    "iii) '10' * 3\n",
    "\n",
    "**a2.** Convert the result of '10' * 3 into an integer and then check it is an integer.\n",
    "\n",
    "<hr>\n",
    "\n",
    "**b1.**  Assign the following DNA sequence to a variable named `dna`:\n",
    "GATATCTAGTCTTCTGATAGAGATCTGATGGGGATTATTATAGCTTCTGATCGGTTT\n",
    "\n",
    "**b2.** Display the sequence using the `print()` function on the newly created variable `dna`.\n",
    "\n",
    "**b3.** What is the length of the DNA sequence? (Hint: use the `len()` function)\n",
    "\n",
    "**b4.**  How many times does the BglII restriction site AGATCT occur in the sequence? (Hint: we already covered this method). \n",
    "\n",
    "**b5.** Convert the sequence to lower case. (Hint: We've not covered this method yet, but its name is intuitive.) \n",
    "    \n",
    "<hr>\n",
    "\n",
    "**\\*c1.**  Use the Contextual Help to investigate the functions we have just covered."
   ]
  },
  {
   "cell_type": "code",
   "execution_count": null,
   "id": "96414d1c-5ca5-4e6e-a4d9-878af7d119e0",
   "metadata": {},
   "outputs": [],
   "source": [
    "# a1.\n",
    "# i)\n",
    "type(10 * 3)"
   ]
  },
  {
   "cell_type": "code",
   "execution_count": null,
   "id": "38f412c0-cff7-478f-88c5-026198d2f48d",
   "metadata": {},
   "outputs": [],
   "source": [
    "# a1.\n",
    "# ii)\n",
    "type(22 / 7)"
   ]
  },
  {
   "cell_type": "code",
   "execution_count": null,
   "id": "77f323ea-088d-42b0-b562-5c375c541261",
   "metadata": {},
   "outputs": [],
   "source": [
    "# a1.\n",
    "# iii)\n",
    "type('10' * 3)"
   ]
  },
  {
   "cell_type": "code",
   "execution_count": null,
   "id": "3a7c5e8d-8b94-48a4-bc25-d37c95ece68f",
   "metadata": {},
   "outputs": [],
   "source": [
    "# a1.\n",
    "# iv)\n",
    "type(int('10' * 3))"
   ]
  },
  {
   "cell_type": "markdown",
   "id": "8dd98c56-c734-4f9c-96cb-fee84d1a59f9",
   "metadata": {},
   "source": [
    "<hr>"
   ]
  },
  {
   "cell_type": "code",
   "execution_count": null,
   "id": "ec39a9a5-bc46-400a-9d86-ecada2a03a44",
   "metadata": {},
   "outputs": [],
   "source": [
    "# b1.\n",
    "dna = 'GATATCTAGTCTTCTGATAGAGATCTGATGGGGATTATTATAGCTTCTGATCGGTTT'"
   ]
  },
  {
   "cell_type": "code",
   "execution_count": null,
   "id": "a17eb6bf-0a09-4780-a37e-b39d938ff09b",
   "metadata": {},
   "outputs": [],
   "source": [
    "# b2.\n",
    "print(dna)"
   ]
  },
  {
   "cell_type": "code",
   "execution_count": null,
   "id": "6708bc40-d1ca-45dc-b2dd-e2993d99dc77",
   "metadata": {},
   "outputs": [],
   "source": [
    "# b3.\n",
    "len(dna)"
   ]
  },
  {
   "cell_type": "code",
   "execution_count": null,
   "id": "01dd48d1-1634-42f4-89ba-30859c1a04cb",
   "metadata": {},
   "outputs": [],
   "source": [
    "# b4.\n",
    "dna.count('AGATCT')"
   ]
  },
  {
   "cell_type": "code",
   "execution_count": null,
   "id": "4629e33b-f578-4711-bbf2-4b155f105833",
   "metadata": {
    "tags": []
   },
   "outputs": [],
   "source": [
    "# b5.\n",
    "dna.lower()"
   ]
  },
  {
   "cell_type": "markdown",
   "id": "ed959d70-62c2-455c-9f2a-30f261cebac9",
   "metadata": {},
   "source": [
    "<div class=\"alert alert-success\">\n",
    "\n",
    "## Exercise 5\n",
    "\n",
    "**a1.** Create a **list** of the planets, in order of average distance from the sun:\\\n",
    "Mercury\\\n",
    "Venus\\\n",
    "Earth\\\n",
    "Mars\\\n",
    "Jupiter\\\n",
    "Saturn\\\n",
    "Uranus\\\n",
    "Neptune\n",
    "\n",
    "**a2.**  Check you have indeed created a list containing planets.\n",
    "\n",
    "**a3.**  Using the list, print out the name of the planet closest to the sun.\n",
    "\n",
    "**a4.**  Print out the name of the planet furthest from the sun.\n",
    "\n",
    "**a5.**  Print out the name of every third planet from the sun.\n",
    "\n",
    "**a6.**  Print out the names of the planets from the furthest from the sun to the closest.\n",
    "\n",
    "**\\*a7.**   Suppose we want to print out the names of the planets in alphabetical order, but we DON'T want to change the order of the planets in the list.  Well there is a function that can do this.  Take a look at the Python documentation (https://docs.python.org/3/library/functions.html) and see if you can find and use that function.\n",
    "</div>"
   ]
  },
  {
   "cell_type": "code",
   "execution_count": null,
   "id": "03a6b07a-0f45-49a7-99c8-bf4fac427daf",
   "metadata": {},
   "outputs": [],
   "source": [
    "# a1.\n",
    "planets = ['Mercury', 'Venus', 'Earth', 'Mars', 'Jupiter', 'Saturn', 'Uranus', 'Neptune']"
   ]
  },
  {
   "cell_type": "code",
   "execution_count": null,
   "id": "5b1ddd24-b782-4cda-8008-50be3fb90c38",
   "metadata": {},
   "outputs": [],
   "source": [
    "# a2.\n",
    "print(planets)\n",
    "type(planets)"
   ]
  },
  {
   "cell_type": "code",
   "execution_count": null,
   "id": "0d9fdb27-6376-40cd-a6d1-71e9ef8bbfe6",
   "metadata": {},
   "outputs": [],
   "source": [
    "# a3.\n",
    "planets[0]"
   ]
  },
  {
   "cell_type": "code",
   "execution_count": null,
   "id": "3fb50c1d-b6a1-4311-af68-c175ec1a1695",
   "metadata": {},
   "outputs": [],
   "source": [
    "# a4.\n",
    "planets[-1]"
   ]
  },
  {
   "cell_type": "code",
   "execution_count": null,
   "id": "36d8f9ca-8db5-403d-a984-2691e7035ba2",
   "metadata": {},
   "outputs": [],
   "source": [
    "# a5.\n",
    "planets[2::3]"
   ]
  },
  {
   "cell_type": "code",
   "execution_count": null,
   "id": "c5104aa5-7cf9-416a-9c0b-a8b4528bbd9c",
   "metadata": {},
   "outputs": [],
   "source": [
    "# a6.\n",
    "planets[::-1]"
   ]
  },
  {
   "cell_type": "code",
   "execution_count": null,
   "id": "37db49fc-6106-41c6-8ff1-2c847437d9a0",
   "metadata": {},
   "outputs": [],
   "source": [
    "# *a7.\n",
    "sorted(planets)"
   ]
  },
  {
   "cell_type": "code",
   "execution_count": null,
   "id": "8b7d41a5-6d3a-4871-a320-168305eea72e",
   "metadata": {},
   "outputs": [],
   "source": [
    "%whos"
   ]
  },
  {
   "cell_type": "markdown",
   "id": "fb71e46c-c83b-4f04-8bc7-5b00aca90c31",
   "metadata": {},
   "source": [
    "<hr>"
   ]
  },
  {
   "cell_type": "markdown",
   "id": "b1ccd5ce-40ce-456d-8f2f-cc56bab7f258",
   "metadata": {},
   "source": [
    "<div class=\"alert alert-success\">\n",
    "\n",
    "## Exercise 6\n",
    "\n",
    "**a1.**  Create a **dictionary** named \"elements\" of the chemical elements:\\\n",
    "H: Hydrogen\\\n",
    "Li: Lithium\\\n",
    "Na: Sodium\\\n",
    "K: Potassium\n",
    "\n",
    "**a2.**  Retrieve from the dictionary the name of the chemical element with symbol Na.\n",
    "\n",
    "**a3.**  Remove Hydrogen from the dictionary\n",
    "\n",
    "<hr>\n",
    "\n",
    "Generate the **ranges** objects described below (check your answers by passing the range to a list and view the results).\n",
    "\n",
    "**b1.**  Create a range of integers from 1 to 7 inclusive.\n",
    "\n",
    "**b2.**  Create a range of integers -5 to 3 inclusive.\n",
    "\n",
    "**b3.**  Create a range of all the odd numbers from -3 to 5 inclusive\n",
    "\n",
    "<hr>\n",
    "    \n",
    "**c1.**  Print to the screen all the variables in memory using the `%whos` magic.\n",
    "\n",
    "<hr>\n",
    "    \n",
    "**\\*d1.**  Create a list that contains the planets list, the chemical elements dictionary and the three ranges objects.\n",
    "\n",
    "</div>"
   ]
  },
  {
   "cell_type": "code",
   "execution_count": null,
   "id": "be606863-ccae-4bd5-b4e4-f3ca991a0f6c",
   "metadata": {},
   "outputs": [],
   "source": [
    "# a1.\n",
    "elements = {'H': 'Hydrogen',\n",
    "    'Li' : 'Lithium',\n",
    "    'Na' : 'Sodium',\n",
    "    'K' : 'Potassium'\n",
    "}\n",
    "\n",
    "print(elements)"
   ]
  },
  {
   "cell_type": "code",
   "execution_count": null,
   "id": "6e930d3a-9ada-4cdb-9d10-0204abf052f4",
   "metadata": {},
   "outputs": [],
   "source": [
    "# a2.\n",
    "elements['Na']"
   ]
  },
  {
   "cell_type": "code",
   "execution_count": null,
   "id": "c6da43c7-77e8-4b2d-9b3c-763838b44dde",
   "metadata": {},
   "outputs": [],
   "source": [
    "# a3.\n",
    "del(elements['H'])\n",
    "elements"
   ]
  },
  {
   "cell_type": "markdown",
   "id": "64abcf0c-9ea6-4dde-841b-ae809d17deb8",
   "metadata": {
    "tags": []
   },
   "source": [
    "<hr>"
   ]
  },
  {
   "cell_type": "code",
   "execution_count": null,
   "id": "1f2d96e8-488b-4b7f-932d-e883419cd7e7",
   "metadata": {},
   "outputs": [],
   "source": [
    "# b1.\n",
    "list(range(1,8))"
   ]
  },
  {
   "cell_type": "code",
   "execution_count": null,
   "id": "42a7f189-7157-4996-9f65-93a5a550916d",
   "metadata": {},
   "outputs": [],
   "source": [
    "# b2.\n",
    "list(range(-5, 4))"
   ]
  },
  {
   "cell_type": "code",
   "execution_count": null,
   "id": "5954b4e4-783d-4d52-9225-f1c78e475aef",
   "metadata": {},
   "outputs": [],
   "source": [
    "# b3.\n",
    "list(range(-3, 6, 2))"
   ]
  },
  {
   "cell_type": "code",
   "execution_count": null,
   "id": "f8ccb1ef-603e-438b-a27e-96984272dd08",
   "metadata": {},
   "outputs": [],
   "source": [
    "# c1.\n",
    "%whos"
   ]
  },
  {
   "cell_type": "code",
   "execution_count": null,
   "id": "967f35ea-0ae3-47a0-8201-96030a227dcc",
   "metadata": {},
   "outputs": [],
   "source": [
    "# d1.*\n",
    "variety = [planets, elements, range(1,8), range(-5, 4), range(-5, 4)]\n",
    "variety"
   ]
  },
  {
   "cell_type": "markdown",
   "id": "149d23b0-4ea3-49ec-b728-8a5d51996473",
   "metadata": {},
   "source": [
    "<hr>"
   ]
  },
  {
   "cell_type": "markdown",
   "id": "ff457a20-13bb-4203-877b-12af78efa8f1",
   "metadata": {
    "tags": []
   },
   "source": [
    "<div class=\"alert alert-success\">\n",
    "\n",
    "## Exercise 7\n",
    "    \n",
    "**a1.** Declare a variable `my_value` and assigning it a numerical value of your choosing. Then perform the conditional tests listed below. Print an appropriate message to the screen if the conditional test returns a `True` result.\n",
    "\n",
    "i) Write a conditional expression that checks whether my_value is equal to 10\n",
    "\n",
    "ii) Write a conditional expression that checks whether my_value is less than 5.\n",
    "\n",
    "iii) Write a conditional expression that checks whether my_value is greater than or equal to 1001.\n",
    "\n",
    "iv) Write a conditional expression that checks whether my_value is not equal to 7.  \n",
    "\n",
    "<hr>\n",
    "    \n",
    "**b1.**  Use a `while` loop to calculate the sum of the first 100 natural numbers (i.e. 1 to 100).\n",
    "\n",
    "</div>"
   ]
  },
  {
   "cell_type": "code",
   "execution_count": null,
   "id": "a53332d9-7d7c-42b5-b92b-582ebd05ea2a",
   "metadata": {},
   "outputs": [],
   "source": [
    "# a1.\n",
    "my_value = 10\n",
    "\n",
    "if my_value == 10:\n",
    "    print('Value is 10')\n",
    "    \n",
    "if my_value < 5:\n",
    "    print('Value less than 5')\n",
    "    \n",
    "if my_value >= 1001:\n",
    "    print('Value greater than or equal to 1001')\n",
    "    \n",
    "if my_value != 7:\n",
    "    print('Value is not equal to 7')"
   ]
  },
  {
   "cell_type": "code",
   "execution_count": null,
   "id": "3c331b51-19c3-42eb-a244-b257fd66498e",
   "metadata": {},
   "outputs": [],
   "source": [
    "# b1\n",
    "max_value = 100\n",
    "total = 0\n",
    "i = 1\n",
    "\n",
    "while(i <= max_value):\n",
    "    total = total + i\n",
    "    i = i + 1\n",
    "\n",
    "print('The total is: ' + str(total))"
   ]
  },
  {
   "cell_type": "markdown",
   "id": "c0d63a2a-cc15-40e6-b43e-ff1cdcc82792",
   "metadata": {},
   "source": [
    "<hr>"
   ]
  },
  {
   "cell_type": "markdown",
   "id": "08b6eef8-10b5-4a16-9fe2-fc5c7ba51d8f",
   "metadata": {},
   "source": [
    "<div class=\"alert alert-success\">\n",
    "\n",
    "## Exercise 8\n",
    "\n",
    "**a1.**  Create a Series named \"buildings\" which contains the following integers:\\\n",
    "2717, 2227, 2073\n",
    "\n",
    "**a2.**  These are heights of buildings, but they are in feet, whereas we want height values in metres. To do the conversion divide all the existing heights by 3.281.\n",
    "\n",
    "**a3.**  Perform a logical test that reports whether a height is greater than 800 metres.  The test should return a Series of `True` / `False` values.    \n",
    "</div>"
   ]
  },
  {
   "cell_type": "code",
   "execution_count": null,
   "id": "979de9d2-4735-40b5-ae6e-93988094794e",
   "metadata": {},
   "outputs": [],
   "source": [
    "# a1.\n",
    "import pandas as pd\n",
    "\n",
    "buildings = pd.Series([2717, 2227, 2073])\n",
    "buildings"
   ]
  },
  {
   "cell_type": "code",
   "execution_count": null,
   "id": "0018b7cc-873e-4c0e-937e-4127a22e2433",
   "metadata": {},
   "outputs": [],
   "source": [
    "# a2.\n",
    "buildings = buildings / 3.281\n",
    "buildings"
   ]
  },
  {
   "cell_type": "code",
   "execution_count": null,
   "id": "ca9041d3-a9b7-4a69-a14e-f2a624b47461",
   "metadata": {},
   "outputs": [],
   "source": [
    "# a3.\n",
    "buildings > 800"
   ]
  },
  {
   "cell_type": "markdown",
   "id": "0b7aa5b8-45a8-44b5-8028-43b738e0fde6",
   "metadata": {},
   "source": [
    "<hr>"
   ]
  },
  {
   "cell_type": "markdown",
   "id": "3a1e673c-fa9d-4fe7-93e4-695989532e2b",
   "metadata": {},
   "source": [
    "<div class=\"alert alert-success\">\n",
    "\n",
    "## Exercise 9\n",
    "    \n",
    "**a1.**  Add an index to the `buildings` Series with the following names:\n",
    "Burj, Merdeka, Shanghai\n",
    "\n",
    "**a2.**  Use the Series created in the previous exercise.  Set the index name to: \"Building_Name\".\n",
    "\n",
    "**a3.**  Let's suppose the three building are to be extended by placing antennas on the top.  The height increases (metres) will be:\n",
    "\n",
    "Merdeka: 10\n",
    "Burj: 5\n",
    "Shanghai: 12\n",
    "\n",
    "Create a Python dictionary recording these value and create a new pandas Series named \"antennas\" from this dictionary.\n",
    "\n",
    "**a4.**  Now add the \"buildings\" and \"antennas\" Series together.  Does the order of the values in their respective Series affect the final totals?\n",
    "\n",
    "<hr>\n",
    "\n",
    "**b1.**  Create a Series called \"forename\" containing the first name of *3* people on this course.\n",
    "\n",
    "**b2.**  Create a Series called \"surname\" containing the surnames of the first *2* of those people (in the same order).\n",
    "\n",
    "**b3.**  Use the addition operator (+) to combine those two Series into a new Series named \"fullname\".\n",
    "\n",
    "**b4.**  Print out the `fullname` Series.  What do you see ?\n",
    "\n",
    "**b5.**  Use the `isnull()` method to identify `NaN` values in the `fullnames` Series.\n",
    "\n",
    "<hr>\n",
    "\n",
    "**\\*c1.** Create a pandas Series that contains the first 100 values of the Nine Times Table i.e. 9, 18,.., 891, 900.\n",
    "    \n",
    "</div>"
   ]
  },
  {
   "cell_type": "code",
   "execution_count": null,
   "id": "17060a49-5f65-4efa-9502-ab97fd5b2694",
   "metadata": {},
   "outputs": [],
   "source": [
    "# a1.\n",
    "buildings.index = ['Burj', 'Merdeka', 'Shanghai']\n",
    "buildings"
   ]
  },
  {
   "cell_type": "code",
   "execution_count": null,
   "id": "365b1786-1ae8-4a2a-acf7-6349dfe64632",
   "metadata": {},
   "outputs": [],
   "source": [
    "# a2.\n",
    "buildings.index.name = 'Building_Name'\n",
    "buildings"
   ]
  },
  {
   "cell_type": "code",
   "execution_count": null,
   "id": "d8d5158f-d1f3-4efb-be40-e940dce5cd6a",
   "metadata": {},
   "outputs": [],
   "source": [
    "# a3.\n",
    "antennas = pd.Series({'Merdeka' : 10, 'Burj' : 5, 'Shanghai' : 12})\n",
    "antennas"
   ]
  },
  {
   "cell_type": "code",
   "execution_count": null,
   "id": "69e2787f-d4de-4c85-9e0e-681bb23f52a4",
   "metadata": {},
   "outputs": [],
   "source": [
    "# a4.\n",
    "buildings + antennas"
   ]
  },
  {
   "cell_type": "markdown",
   "id": "391f38f9-7ced-46b1-9aca-1e02aebbe322",
   "metadata": {},
   "source": [
    "<hr>"
   ]
  },
  {
   "cell_type": "code",
   "execution_count": null,
   "id": "1f008933-d8e8-4a1a-90a1-ff79e060c35d",
   "metadata": {},
   "outputs": [],
   "source": [
    "# b1.\n",
    "forename = pd.Series(['Joel', 'Abby', 'Ellie'])"
   ]
  },
  {
   "cell_type": "code",
   "execution_count": null,
   "id": "8a484adc-2fae-4cfa-a98e-594f448418f1",
   "metadata": {},
   "outputs": [],
   "source": [
    "# b2.\n",
    "surname = pd.Series(['Miller', 'Anderson'])"
   ]
  },
  {
   "cell_type": "code",
   "execution_count": null,
   "id": "4b47bb8c-6b03-4ad3-8062-9bcec7dfefc6",
   "metadata": {},
   "outputs": [],
   "source": [
    "# b3.\n",
    "fullname = forename + surname"
   ]
  },
  {
   "cell_type": "code",
   "execution_count": null,
   "id": "1783e30f-f674-47b2-a529-1310f117e620",
   "metadata": {},
   "outputs": [],
   "source": [
    "# b4.\n",
    "print(fullname)"
   ]
  },
  {
   "cell_type": "code",
   "execution_count": null,
   "id": "56a1cbed-fb50-4f28-81d3-baadab22f868",
   "metadata": {},
   "outputs": [],
   "source": [
    "# b5.\n",
    "fullname.isnull()"
   ]
  },
  {
   "cell_type": "markdown",
   "id": "f8660e03-64ba-473f-ac78-7283d21c241c",
   "metadata": {},
   "source": [
    "<hr>"
   ]
  },
  {
   "cell_type": "code",
   "execution_count": null,
   "id": "10ef6f4c-1ea3-4454-a66c-005232a98c38",
   "metadata": {},
   "outputs": [],
   "source": [
    "# *c1.\n",
    "pd.Series(range(9, (9*101), 9))"
   ]
  },
  {
   "cell_type": "markdown",
   "id": "33721bfb-aef0-4505-8b24-f209b479e4db",
   "metadata": {},
   "source": [
    "<hr>"
   ]
  },
  {
   "cell_type": "markdown",
   "id": "73a00098-000f-4add-a1de-7fc056d94fe0",
   "metadata": {},
   "source": [
    "<div class=\"alert alert-success\">\n",
    "    \n",
    "## Exercise 10\n",
    "\n",
    "**a1.**   Let's place the following gene expression values in a DataFrame.  Each column should be a sample and each row a gene.\n",
    "    \n",
    "Sample1: GeneA:234.1, GeneB:67.3, GeneC:1972.1\n",
    "    \n",
    "Sample2: GeneA:224.4, GeneB:90.3, GeneC:34.0\n",
    "    \n",
    "Sample3: GeneA:277.1, GeneB:78.2, GeneC:2312.7\n",
    "    \n",
    "**a2.**  Use the `shape` attribute to get the dimensions of this DataFrame.\n",
    "    \n",
    "**a3.**  Use the `info()` method to view the information about this DataFrame.\n",
    "     \n",
    "</div>"
   ]
  },
  {
   "cell_type": "code",
   "execution_count": null,
   "id": "ca972fb8-43d5-430a-9511-f30a071dda37",
   "metadata": {},
   "outputs": [],
   "source": [
    "# a1.\n",
    "# There are many ways to have done this.  For example, we could have made the DataFrame and then\n",
    "# added the column and row names later. \n",
    "expression = pd.DataFrame(\n",
    "        [[234.1, 224.4, 277.1],\n",
    "         [67.3, 90.3, 78.2],\n",
    "         [1972.1, 34.0, 2312.7]]\n",
    ")\n",
    "expression.columns = ['Sample1', 'Sample2', 'Sample3']\n",
    "expression.index = ['GeneA', 'GeneB', 'GeneC']\n",
    "\n",
    "expression"
   ]
  },
  {
   "cell_type": "code",
   "execution_count": null,
   "id": "ba427c6e-c2e5-4e2c-a50d-6f7b7b0f58ff",
   "metadata": {},
   "outputs": [],
   "source": [
    "# a1.\n",
    "# Or added the column and row names at the same time\n",
    "expression = pd.DataFrame(\n",
    "        [[234.1, 224.4, 277.1],\n",
    "         [67.3, 90.3, 78.2],\n",
    "         [1972.1, 34.0, 2312.7]],\n",
    "    columns=['Sample1', 'Sample2', 'Sample3'],\n",
    "    index = ['GeneA', 'GeneB', 'GeneC']\n",
    ")\n",
    "\n",
    "expression"
   ]
  },
  {
   "cell_type": "code",
   "execution_count": null,
   "id": "cc9243f8-6a81-4c07-98b1-6fe9946f4d33",
   "metadata": {},
   "outputs": [],
   "source": [
    "# a1\n",
    "#Or we could have made 3 separate Series objects and then\n",
    "# combined them into a single pandas DataFrame\n",
    "a = pd.Series([234.1, 224.4, 277.1])\n",
    "a.name = 'GeneA'\n",
    "b = pd.Series([67.3, 90.3, 78.2])\n",
    "b.name = 'GeneB'\n",
    "c = pd.Series([1972.1, 34.0, 2312.7])\n",
    "c.name = 'GeneC'\n",
    "\n",
    "expression = pd.DataFrame([a, b, c])\n",
    "expression.columns = ['Sample1', 'Sample2', 'Sample3']\n",
    "\n",
    "expression"
   ]
  },
  {
   "cell_type": "code",
   "execution_count": null,
   "id": "e8bd3364-6b06-4c27-aeb2-1d978095d522",
   "metadata": {},
   "outputs": [],
   "source": [
    "# a1\n",
    "#Or we could havecould have used a Python dictionary and then defined the DataFrame row index\n",
    "expression = pd.DataFrame(\n",
    "    {\"Sample1\" : [234.1, 67.3, 1972.1],\n",
    "     \"Sample2\" : [224.4, 90.3, 34.0],\n",
    "     \"Sample4\" : [277.1, 78.2, 2312.7]})\n",
    "\n",
    "expression.index = ['GeneA', 'GeneB', 'GeneC']\n",
    "\n",
    "expression"
   ]
  },
  {
   "cell_type": "code",
   "execution_count": null,
   "id": "91c6d56c-4efb-440a-8ab2-1836018b1b09",
   "metadata": {},
   "outputs": [],
   "source": [
    "# a2.\n",
    "expression.shape"
   ]
  },
  {
   "cell_type": "code",
   "execution_count": null,
   "id": "51dfeeba-3aab-46fb-b1df-1e97e0af1559",
   "metadata": {},
   "outputs": [],
   "source": [
    "# a3.\n",
    "expression.info()"
   ]
  },
  {
   "cell_type": "markdown",
   "id": "877870ac-e96c-43ed-ae03-5996fb1dcd73",
   "metadata": {},
   "source": [
    "<hr>"
   ]
  },
  {
   "cell_type": "markdown",
   "id": "6939733f-e25e-44e0-a73d-f5513591bc70",
   "metadata": {},
   "source": [
    "<div class=\"alert alert-success\">\n",
    "\n",
    "## Exercise 11\n",
    "\n",
    "**a1.**  Import the Seaborn 'titanic' test dataset.\n",
    "\n",
    "**a2.**  Use `loc[]` to print out the \"age\" column.\n",
    "\n",
    "**a3.**  Use `loc[]` to print out the \"class\" and \"embark_town\" columns.\n",
    "\n",
    "**a4.**  Use `loc[]` to print out the last 5 columns.\n",
    "\n",
    "**a5.**  Use `loc[]` to print out the last 5 columns of the last 5 rows.\n",
    "\n",
    "**a6.** Create a Boolean list and pass it to `loc[]` to print the second, fourth, sixth and fifteenth columns.\n",
    "\n",
    "</div>"
   ]
  },
  {
   "cell_type": "code",
   "execution_count": null,
   "id": "9dc9b6f0-619f-4bb2-9789-b99cd0fc3edb",
   "metadata": {},
   "outputs": [],
   "source": [
    "# a1.\n",
    "import seaborn as sns\n",
    "\n",
    "titanic = sns.load_dataset('titanic')\n",
    "titanic"
   ]
  },
  {
   "cell_type": "code",
   "execution_count": null,
   "id": "929a5f7d-32b4-49ae-a485-542b6e95cf75",
   "metadata": {},
   "outputs": [],
   "source": [
    "# a2.\n",
    "titanic.loc[:, 'age']"
   ]
  },
  {
   "cell_type": "code",
   "execution_count": null,
   "id": "bb6602ac-dcae-4b08-a524-5057a1a8e177",
   "metadata": {},
   "outputs": [],
   "source": [
    "# a3.\n",
    "titanic.loc[:, ['class', 'embark_town']]"
   ]
  },
  {
   "cell_type": "code",
   "execution_count": null,
   "id": "f6240f10-a482-4e9d-9c2c-76bbdbcd50ff",
   "metadata": {},
   "outputs": [],
   "source": [
    "# a4.\n",
    "titanic.loc[:, 'adult_male':]"
   ]
  },
  {
   "cell_type": "code",
   "execution_count": null,
   "id": "e4da963a-8d6f-4b2c-9372-9318d41818bc",
   "metadata": {},
   "outputs": [],
   "source": [
    "# a7.\n",
    "titanic.loc[886:, 'adult_male':]"
   ]
  },
  {
   "cell_type": "code",
   "execution_count": null,
   "id": "54ab602f-9e65-4241-90f5-497e46b0e375",
   "metadata": {},
   "outputs": [],
   "source": [
    "# a8.\n",
    "boolean_list = [False, True, False, True, False, True, False, False, False, False, False, False, False, False, True]\n",
    "titanic.loc[:, boolean_list]"
   ]
  },
  {
   "cell_type": "markdown",
   "id": "0f25b016-f650-45f6-8c8b-ef5e3c6074ba",
   "metadata": {},
   "source": [
    "<hr>"
   ]
  },
  {
   "cell_type": "markdown",
   "id": "32f8bd6a-1039-4dd9-a1f7-7507d36f1e83",
   "metadata": {},
   "source": [
    "<div class=\"alert alert-success\">\n",
    "\n",
    "## Exercise 12\n",
    "\n",
    "**The data files for the following exercises can be found in the \"course_exercises_data\" folder.**\n",
    "    \n",
    "**a1.**  Import the dataset file \"Biomass_of_Herbivorous_Fish.tsv\".\n",
    "\n",
    "**a2.**  Get the dimensions of the DataFrame using `shape`.\n",
    "    \n",
    "**a3.** Display information in the DataFrame using `info()`.\n",
    "    \n",
    "**a4.** View the top of the data with the `head()` method.\n",
    "    \n",
    "**a5.** View the bottom of the data with the `tail()` method.    \n",
    "\n",
    "**a6.**  Use `iloc` to print to the screen the first three rows.\n",
    "\n",
    "**a7.**  Use `iloc` to print to the screen the second row and columns at **positions** 3, 5, 2 (in that order).\n",
    "\n",
    "**a8.**  Use `iloc` to print to the screen the bottom right-most element.\n",
    "    \n",
    "<hr>\n",
    "    \n",
    "**\\*b1.** Using dict-like notation on the gene expression DataFrame from the previous exercise, print out the \"Sample1\" column.\n",
    "    \n",
    "</div>"
   ]
  },
  {
   "cell_type": "code",
   "execution_count": null,
   "id": "9fa07710-71fa-4479-b690-5edd824a7498",
   "metadata": {
    "tags": []
   },
   "outputs": [],
   "source": [
    "# a1.\n",
    "fish = pd.read_csv('course_exercises_data/Biomass_of_Herbivorous_Fish.tsv', sep='\\t')"
   ]
  },
  {
   "cell_type": "code",
   "execution_count": null,
   "id": "76b48d5c-6fc0-448f-8c7c-2d8821a335d8",
   "metadata": {},
   "outputs": [],
   "source": [
    "# a2.\n",
    "fish.shape"
   ]
  },
  {
   "cell_type": "code",
   "execution_count": null,
   "id": "593dd319-3294-4038-8ed1-bd998e2367dc",
   "metadata": {},
   "outputs": [],
   "source": [
    "# a3\n",
    "fish.info()"
   ]
  },
  {
   "cell_type": "code",
   "execution_count": null,
   "id": "3a88bb9d-8a5a-4643-a60d-bce46648dfea",
   "metadata": {},
   "outputs": [],
   "source": [
    "# a4.\n",
    "fish.head()"
   ]
  },
  {
   "cell_type": "code",
   "execution_count": null,
   "id": "ece7ab9f-53a3-4c34-9449-7335e9a61af0",
   "metadata": {},
   "outputs": [],
   "source": [
    "# a5.\n",
    "fish.tail()"
   ]
  },
  {
   "cell_type": "code",
   "execution_count": null,
   "id": "e28d1292-0ac2-474c-b542-150ec210cba4",
   "metadata": {},
   "outputs": [],
   "source": [
    "# a6.\n",
    "fish.iloc[:3, :]"
   ]
  },
  {
   "cell_type": "code",
   "execution_count": null,
   "id": "ab3f8f3c-4e4c-46b4-a203-334fda9d2860",
   "metadata": {},
   "outputs": [],
   "source": [
    "# a7.\n",
    "fish.iloc[1, [2, 4, 1]]"
   ]
  },
  {
   "cell_type": "code",
   "execution_count": null,
   "id": "97bdce6c-914b-4a0f-9c0c-034de75821e1",
   "metadata": {},
   "outputs": [],
   "source": [
    "# a8.\n",
    "fish.iloc[-1, -1]"
   ]
  },
  {
   "cell_type": "code",
   "execution_count": null,
   "id": "ae83c668-0334-4a7a-b70b-1167d5012c83",
   "metadata": {},
   "outputs": [],
   "source": [
    "# *b1.\n",
    "expression['Sample1']"
   ]
  },
  {
   "cell_type": "markdown",
   "id": "25b25cbb-82ac-4278-946e-b2fa1b5bb02c",
   "metadata": {},
   "source": [
    "<hr>"
   ]
  },
  {
   "cell_type": "markdown",
   "id": "e017f70f-2c04-45e1-8080-012d7b1085d0",
   "metadata": {},
   "source": [
    "<div class=\"alert alert-success\">\n",
    "\n",
    "## Exercise 13\n",
    "**a1.** Re-import the data Herbivorous fish dataset.  Use the `sort()` method to sort the Deep.Mean.Biomass.\n",
    "\n",
    "**a2.**  Pass an argument to the `sort()` method so that \"Deep.Mean.Biomass\" is sorted from highest-to-lowest (rather than lowest-to-highest).\n",
    "\n",
    "**a3.**  Sort the data alphabetically by \"Family\" and then by \"Deep.Mean.Biomass\" (most to least)\n",
    "\n",
    "**a4.**  Use the `rank()` method to identify the greatest shallow percentage.\n",
    "\n",
    "**a5.**  Let's use proportions (relative to 1) rather than percentages (i.e. divide all the percentage columns by 100).\n",
    "\n",
    "**a6.**  Rename the percentage columns as appropriate.\n",
    "\n",
    "**a7.**  Round all the results to 1 decimal place.\n",
    "\n",
    "**a8.**  Create a new column that reports Deep.Mean.Biomass / Shallow.Mean_Biomass.  Name the column: \"Deep.Shallow.Ratio\".\n",
    "\n",
    "**a9.**  Produce a Series of the **unique** \"Family\" values (i.e. remove duplicates, retaining one representative copy).\n",
    "\n",
    "<hr>\n",
    "\n",
    "**b1.**  Import the \"Childrens_Indoor_Hobbies_During_Lockdown.csv\" into a DataFrame (notice this is a comma-separated values spreadsheet).\n",
    "\n",
    "**b2.**  Create a boolean series (`True` / `False`) representing rows where the 'Number' is greater than 100.  Filter the data using the boolean series.\n",
    "\n",
    "**b3.**  Create a boolean series (`True` / `False`) representing rows where the 'Number' is greater than 50 but less than 100. Filter the data using the boolean series.\n",
    "\n",
    "**b4.**  Retrieve the rows not returned above (hint: invert the boolean series with `~`).\n",
    "\n",
    "**b5.**  Use the `isin()` method to returns rows where Indoor.Hobby is any of \"Lego\", \"Toys\", \"Puzzles and Games\" or \"Buckaroo\".\n",
    "\n",
    "**b6.**  Use the `srt.contains()` method to return rows where Indoor.Hobby contains \"Video\".\n",
    "\n",
    "**b7.**  Delete the \"Percent\" column from the DataFrame using the `drop` method (leave the `inplace` parameter set to the default i.e. `False`)\n",
    "    \n",
    "**b8.**  Delete the \"Number\" column from the DataFrame using the `drop` method, but now with the `inplace` parameter set to  `True`).  Check that this has worked.  How is the syntax different from the previous question?\n",
    "\n",
    "<hr>\n",
    "    \n",
    "**\\*c1.**  Re-import the \"Childrens_Indoor_Hobbies_During_Lockdown.csv\" into a DataFrame.  Now use the `query()` method to return the value where Indoor.Hobby is \"Computer\".\n",
    "    \n",
    "**\\*c2.**  Import the file \"Premier_League_Final_Table_1999.txt\" into a DataFrame and append columns:\n",
    "\n",
    "i) \"GD\": Goal Difference (Goals For - Goals Against)\n",
    "\n",
    "ii) \"Pts\": Points (3 points for a win and 1 for a draw)\n",
    "\n",
    "Write out the modified table to an MS Excel file.    \n",
    "    \n",
    "**\\*c3.** Take a dataset of your own and import it into a pandas DataFrame.  Try sorting it and filtering it and outputting fresh results.\n",
    "\n",
    "</div>"
   ]
  },
  {
   "cell_type": "code",
   "execution_count": null,
   "id": "41b4153f-783f-4cc6-8b81-6d5669a2a013",
   "metadata": {},
   "outputs": [],
   "source": [
    "# a1.\n",
    "fish = pd.read_csv('course_exercises_data/Biomass_of_Herbivorous_Fish.tsv', sep='\\t')\n",
    "fish = fish.sort_values('Deep.Mean.Biomass')\n",
    "fish"
   ]
  },
  {
   "cell_type": "code",
   "execution_count": null,
   "id": "923a56a9-947b-431c-b400-69952d0707e5",
   "metadata": {},
   "outputs": [],
   "source": [
    "# a2.\n",
    "fish = fish.sort_values('Deep.Mean.Biomass', ascending=False)\n",
    "fish"
   ]
  },
  {
   "cell_type": "code",
   "execution_count": null,
   "id": "22fa7b1b-ebc7-47bb-a68b-475aee11939a",
   "metadata": {},
   "outputs": [],
   "source": [
    "# a3.\n",
    "fish = fish.sort_values(['Family', 'Deep.Mean.Biomass'], ascending=[True, False])\n",
    "fish"
   ]
  },
  {
   "cell_type": "code",
   "execution_count": null,
   "id": "94007e2d-0fac-49d4-a791-ef93e0dcf1c9",
   "metadata": {},
   "outputs": [],
   "source": [
    "# a4.\n",
    "fish.loc[:, 'Shallow.Percentage'].rank(ascending=False)"
   ]
  },
  {
   "cell_type": "code",
   "execution_count": null,
   "id": "ee242dbf-f547-4e32-bb79-0a0ef30d7cef",
   "metadata": {},
   "outputs": [],
   "source": [
    "# a5.\n",
    "fish.loc[:, 'Deep.Percentage'] = fish.loc[:, 'Deep.Percentage'] / 100\n",
    "fish.loc[:, 'Shallow.Percentage'] = fish.loc[:, 'Shallow.Percentage'] / 100\n",
    "fish"
   ]
  },
  {
   "cell_type": "code",
   "execution_count": null,
   "id": "8bad7a5b-f69f-429d-a079-262caf82108d",
   "metadata": {},
   "outputs": [],
   "source": [
    "# a6.\n",
    "fish = fish.rename(mapper={'Deep.Percentage' : 'Deep.Proportion', 'Shallow.Percentage' : 'Shallow.Proportion'}, axis=1)\n",
    "fish"
   ]
  },
  {
   "cell_type": "code",
   "execution_count": null,
   "id": "567e26a2-6841-45a8-a538-1a26b7e78afd",
   "metadata": {},
   "outputs": [],
   "source": [
    "# a7.\n",
    "fish = fish.round(1)\n",
    "fish"
   ]
  },
  {
   "cell_type": "code",
   "execution_count": null,
   "id": "9821c67b-43c3-4bfd-a0bd-3d0dec039875",
   "metadata": {},
   "outputs": [],
   "source": [
    "# a8.\n",
    "fish.loc[:, 'Deep.Shallow.Ratio'] = fish.loc[:, 'Deep.Mean.Biomass'] / fish.loc[:, 'Shallow.Mean.Biomass']\n",
    "fish"
   ]
  },
  {
   "cell_type": "code",
   "execution_count": null,
   "id": "45e23ab4-e628-47d1-83ae-76c72daa3068",
   "metadata": {},
   "outputs": [],
   "source": [
    "# a9.\n",
    "family = fish.loc[:, 'Family'].drop_duplicates()\n",
    "family"
   ]
  },
  {
   "cell_type": "markdown",
   "id": "38c56172-d03e-476d-bdfd-32c58d8d698c",
   "metadata": {},
   "source": [
    "<hr>"
   ]
  },
  {
   "cell_type": "code",
   "execution_count": null,
   "id": "1b843e00-2ea5-4f6e-9820-8add1f223eaf",
   "metadata": {},
   "outputs": [],
   "source": [
    "# b1.\n",
    "indoor_hobbies = pd.read_csv('course_exercises_data/Childrens_Indoor_Hobbies_During_Lockdown.csv')\n",
    "indoor_hobbies"
   ]
  },
  {
   "cell_type": "code",
   "execution_count": null,
   "id": "8cfcb594-bfde-4492-a435-4bbbbee8ad4d",
   "metadata": {},
   "outputs": [],
   "source": [
    "# b2.\n",
    "filt = indoor_hobbies.loc[:, 'Number'] > 100\n",
    "popular_indoor_hobbies = indoor_hobbies.loc[filt, :]\n",
    "popular_indoor_hobbies"
   ]
  },
  {
   "cell_type": "code",
   "execution_count": null,
   "id": "9cd05a41-4996-4e22-bd86-83ba88dce3f5",
   "metadata": {},
   "outputs": [],
   "source": [
    "# b3.\n",
    "filt = (indoor_hobbies.loc[:, 'Number'] > 50) & (indoor_hobbies.loc[:, 'Number'] < 100)\n",
    "fair_indoor_hobbies = indoor_hobbies.loc[filt, :]\n",
    "fair_indoor_hobbies"
   ]
  },
  {
   "cell_type": "code",
   "execution_count": null,
   "id": "5c7b0a2c-3c27-4818-9ff7-6478aae671b2",
   "metadata": {},
   "outputs": [],
   "source": [
    "# b4.\n",
    "filt = ~ filt\n",
    "other_indoor_hobbies = indoor_hobbies.loc[filt, :]\n",
    "other_indoor_hobbies"
   ]
  },
  {
   "cell_type": "code",
   "execution_count": null,
   "id": "d9c89eb9-1338-4b23-8627-a9cc8e2947be",
   "metadata": {},
   "outputs": [],
   "source": [
    "# b5.\n",
    "lookup = ['Lego', 'Toys', 'Puzzles and Games', 'Buckaroo']\n",
    "filt = indoor_hobbies['Hobby'].isin(lookup)\n",
    "indoor_hobbies.loc[filt, :]"
   ]
  },
  {
   "cell_type": "code",
   "execution_count": null,
   "id": "233a3579-4c23-487b-b099-009d8b52feac",
   "metadata": {},
   "outputs": [],
   "source": [
    "# b6.\n",
    "filt = indoor_hobbies['Hobby'].str.contains('Video')\n",
    "indoor_hobbies.loc[filt, :]"
   ]
  },
  {
   "cell_type": "code",
   "execution_count": null,
   "id": "b8214017-3a9b-4723-91a9-06e29d74127f",
   "metadata": {},
   "outputs": [],
   "source": [
    "# b7.\n",
    "indoor_hobbies = indoor_hobbies.drop('Percent', axis=1)\n",
    "indoor_hobbies"
   ]
  },
  {
   "cell_type": "code",
   "execution_count": null,
   "id": "9c6239fa-cb2a-4846-b81f-09cc617565d9",
   "metadata": {},
   "outputs": [],
   "source": [
    "indoor_hobbies.drop('Number', axis=1, inplace=True)\n",
    "indoor_hobbies"
   ]
  },
  {
   "cell_type": "markdown",
   "id": "b3cc49c9-bf07-4857-ae36-eec2bb0121f7",
   "metadata": {},
   "source": [
    "<hr>"
   ]
  },
  {
   "cell_type": "code",
   "execution_count": null,
   "id": "8cfec4c1-fc8c-4f6f-956c-262a6500d2f8",
   "metadata": {},
   "outputs": [],
   "source": [
    "# *c1.\n",
    "indoor_hobbies = pd.read_csv('course_exercises_data/Childrens_Indoor_Hobbies_During_Lockdown.csv')\n",
    "indoor_hobbies.query('Hobby == \"Computer\"')"
   ]
  },
  {
   "cell_type": "code",
   "execution_count": null,
   "id": "071b9fa4-6789-4794-b07f-e305b62502a0",
   "metadata": {},
   "outputs": [],
   "source": [
    "# *c2.\n",
    "league_table = pd.read_csv('course_exercises_data/Premier_League_Final_Table_1999.txt', sep='|')\n",
    "league_table['GD'] = league_table['GF'] - league_table['GA']\n",
    "league_table['Pts'] = (league_table['W'] * 3) +  league_table['D']\n",
    "league_table.to_excel('Premier_League_Final_Table_1999.xlsx')"
   ]
  },
  {
   "cell_type": "markdown",
   "id": "5bfc846e-de44-457f-961d-5c3b3d6110af",
   "metadata": {},
   "source": [
    "<hr>"
   ]
  },
  {
   "cell_type": "markdown",
   "id": "b35557d1-375d-42a7-997a-22937b31a553",
   "metadata": {
    "tags": []
   },
   "source": [
    "<div class=\"alert alert-success\">\n",
    "\n",
    "## Exercise 14\n",
    "**a1.**  Import the \"Biomass_of_Herbivorous_Fish.tsv\" dataset once again. You should be able to see missing values.  Confirm this with the `isnull()` method.\n",
    "\n",
    "**a2.**  Decide how you want to deal with the rows containing `NaN`.  Either convert the `NaN` values to 0 with the `fillna()` method or remove the offending rows with the `dropna()` method.\n",
    "\n",
    "**a3.**  Let's abbreviate the \"Morpho.Functional.Group\".  Remove \"ivore\" from all entries using the `str.replace()` method.  (Hint: removing text is the same as replacing it with '').\n",
    "\n",
    "**a4.**  On further thoughts, let's convert the \"Morpho.Functional.Group\" to numerical values.  Use the `replace()` method to convert 'Detrit' to 'D', 'Alg' to 'A', and 'Omn' to 'O'.\n",
    "    \n",
    "</div>"
   ]
  },
  {
   "cell_type": "code",
   "execution_count": null,
   "id": "e450f316-e274-4ab1-831d-c7777b0a34d9",
   "metadata": {},
   "outputs": [],
   "source": [
    "# a1. \n",
    "fish = pd.read_csv('course_exercises_data/Biomass_of_Herbivorous_Fish.tsv', sep='\\t')\n",
    "fish"
   ]
  },
  {
   "cell_type": "code",
   "execution_count": null,
   "id": "5b8369c1-ff9c-43f8-a81a-1c7674b1b6e3",
   "metadata": {},
   "outputs": [],
   "source": [
    "fish.isnull()"
   ]
  },
  {
   "cell_type": "code",
   "execution_count": null,
   "id": "2137e701-110d-403d-bcbb-0c7de0801d16",
   "metadata": {},
   "outputs": [],
   "source": [
    "# a2.\n",
    "fish.fillna(0)"
   ]
  },
  {
   "cell_type": "code",
   "execution_count": null,
   "id": "8da43274-73e0-452e-8855-6f2f1928076d",
   "metadata": {},
   "outputs": [],
   "source": [
    "fish.dropna()"
   ]
  },
  {
   "cell_type": "code",
   "execution_count": null,
   "id": "72294eb5-e8b1-48be-8732-04493c15d9bf",
   "metadata": {},
   "outputs": [],
   "source": [
    "# a3.\n",
    "fish.loc[:, 'Morpho.Functional.Group'] = fish.loc[:, 'Morpho.Functional.Group'].str.replace('ivore', '')\n",
    "fish"
   ]
  },
  {
   "cell_type": "code",
   "execution_count": null,
   "id": "bfce09ce-904a-4938-93c2-150157b68221",
   "metadata": {},
   "outputs": [],
   "source": [
    "# a4.\n",
    "fish.loc[:, 'Morpho.Functional.Group'] = fish.loc[:, 'Morpho.Functional.Group'].replace({'Detrit' : 'D', 'Alg' : 'A', 'Omn' : 'O'})\n",
    "fish"
   ]
  },
  {
   "cell_type": "markdown",
   "id": "03610cc8-d99a-4f97-ab59-9b371ffef3ac",
   "metadata": {},
   "source": [
    "<hr>"
   ]
  },
  {
   "cell_type": "markdown",
   "id": "7e4ba10a-7dd5-42d9-acb8-404f43e11e83",
   "metadata": {
    "tags": []
   },
   "source": [
    "<div class=\"alert alert-success\">\n",
    "\n",
    "## Exercise 15\n",
    "\n",
    "**a1.**  Let's import the children's indoor hobbies again and then sort the DataFrame by \"Number\" (most-to-least).  Notice the index numbers no longer increment by 1. Let's fix this with the `reset_index()` method (remember to drop the original index values).\n",
    "\n",
    "**a2.**  Convert all the hobby counts to binary values using the `apply()` method and the Python `categorise()` function shown below.\n",
    "    \n",
    "    def categorise(n):\n",
    "        if n > 100:\n",
    "            return 'Very Popular'\n",
    "        elif n > 30:\n",
    "            return 'Popular'\n",
    "        elif n > 10:\n",
    "            return 'Somewhat popular'\n",
    "        else:\n",
    "            return 'Unpopular'\n",
    "\n",
    "\n",
    "**a3.**  Make the hobby name the index of the DataFrame by setting the index attribute of the DataFrame.  (Prior to doing this, convert space (' '), ampersand('&') and forward slash  '/' to the underscore (_) character.)\n",
    "\n",
    "<hr>\n",
    "    \n",
    "**b1.** Explain what is happening with this code:\n",
    "    \n",
    "    df = pd.DataFrame(\n",
    "        {\"a\" : [1, 2, 3],\n",
    "         \"b\" : [4, 5, 6],\n",
    "         \"c\" : [7, 8, 9]})\n",
    "\n",
    "    df_subset = df.iloc[:, 1:]\n",
    "    df_subset.iloc[0, 0] = 100\n",
    "\n",
    "    df    \n",
    "  \n",
    "<hr>    \n",
    "\n",
    "**\\*c1.** Write a function that performs the text editing steps described in a3.  Use this function on the \"Hobby\" column.\n",
    "\n",
    "**\\*c2.**  Import some of your own data into a DataFrame.  Create a novel function to analyse the data.     \n",
    "\n",
    "</div>"
   ]
  },
  {
   "cell_type": "code",
   "execution_count": null,
   "id": "cab4ed37-8bc4-40f7-bd78-d60f4e685258",
   "metadata": {},
   "outputs": [],
   "source": [
    "# a1.\n",
    "indoor_hobbies = pd.read_csv('course_exercises_data/Childrens_Indoor_Hobbies_During_Lockdown.csv')\n",
    "indoor_hobbies = indoor_hobbies.sort_values('Number', ascending=False)\n",
    "indoor_hobbies.head()"
   ]
  },
  {
   "cell_type": "code",
   "execution_count": null,
   "id": "61284cd3-6f1e-45e0-ba78-4e331e2fb1cd",
   "metadata": {},
   "outputs": [],
   "source": [
    "indoor_hobbies = indoor_hobbies.reset_index(drop=True)\n",
    "indoor_hobbies"
   ]
  },
  {
   "cell_type": "code",
   "execution_count": null,
   "id": "09bf79fa-f148-4249-8f42-82fa23ca388f",
   "metadata": {},
   "outputs": [],
   "source": [
    "# a2.\n",
    "def categorise(n):\n",
    "    if n > 100:\n",
    "        return 'Very Popular'\n",
    "    elif n > 30:\n",
    "        return 'Popular'\n",
    "    elif n > 10:\n",
    "        return 'Somewhat popular'\n",
    "    else:\n",
    "        return 'Unpopular'\n",
    "\n",
    "indoor_hobbies['Number'].apply(categorise)"
   ]
  },
  {
   "cell_type": "code",
   "execution_count": null,
   "id": "515cf710-19b6-46cc-b9e5-bc5a87cab37b",
   "metadata": {},
   "outputs": [],
   "source": [
    "# a3.\n",
    "indoor_hobbies.index = (indoor_hobbies.loc[:, 'Hobby'].str.replace(' ', '_')\n",
    "                                                  .str.replace('/', '_')\n",
    "                                                  .str.replace('_&_', '_')\n",
    ")\n",
    "                                    \n",
    "indoor_hobbies"
   ]
  },
  {
   "cell_type": "markdown",
   "id": "d471948b-efd2-4e30-bba8-9ce871a13062",
   "metadata": {},
   "source": [
    "<hr>"
   ]
  },
  {
   "cell_type": "code",
   "execution_count": null,
   "id": "784e9d7d-f126-4905-b993-578787c581bf",
   "metadata": {},
   "outputs": [],
   "source": [
    "# b1.\n",
    "# A view (df_subset) is created on the orignal DataFrame (df).  Modifying the view modifies the original DataFrame.  "
   ]
  },
  {
   "cell_type": "code",
   "execution_count": null,
   "id": "1122e79b-918c-4204-bf55-83785ae4cfda",
   "metadata": {},
   "outputs": [],
   "source": [
    "# *c1.\n",
    "def tidy_text(text):\n",
    "    text = text.replace(' ', '_')\n",
    "    text = text.replace('/', '_')\n",
    "    text = text.replace('_&_', '_') \n",
    "    return(text)\n",
    "\n",
    "indoor_hobbies.loc[:, 'Hobby'] = indoor_hobbies.loc[:, 'Hobby'].apply(tidy_text)\n",
    "indoor_hobbies"
   ]
  },
  {
   "cell_type": "markdown",
   "id": "05913231-d1a5-4aed-8476-ddb4903d0f29",
   "metadata": {},
   "source": [
    "<hr>"
   ]
  },
  {
   "cell_type": "markdown",
   "id": "a41ce8a3-e0a5-4077-ac22-9efc7b3d483d",
   "metadata": {},
   "source": [
    "<div class=\"alert alert-success\">\n",
    "\n",
    "## Exercise 16\n",
    "\n",
    "**a1.**  Import the datasets \"Brain_Bodyweight_data.tsv\" and \"Brain_Bodyweight_Metadata.tsv\" into separate DataFrames. Try the `describe()` method on both DataFrames.  What do you see?\n",
    "\n",
    "**a2.**  Use the `merge()` method to combine the data with the metadata.\n",
    "\n",
    "**a3.**  Use the `value_counts()` method to give a tally of the different unique entries in the \"Category\" column.\n",
    "\n",
    "<hr>\n",
    "\n",
    "**b1.**  Import the Indoor and Outdoor Lockdown hobbies data into separate DataFrames.  Use `concat()` to combine the DataFrames.\n",
    "\n",
    "<hr>\n",
    "\n",
    "**c1.**  Import the Seaborn test dataset \"penguins\" and remove all but the 'species' and 'body_mass_g' columns.  Use the `groupby()` method to group the samples by the \"body_mass_g\" column.  \n",
    "\n",
    "**c2.**  Report the mean \"body_mass_g\" value for each \"species\".\n",
    "\n",
    "<hr>\n",
    "\n",
    "**\\*d1.**  Take a dataset of your own and create a new metadata file describing your data.   Combine your data with the metadata.  Use this combined dataset to produce summary results that incorporate the metadata. \n",
    "\n",
    "</div>"
   ]
  },
  {
   "cell_type": "code",
   "execution_count": null,
   "id": "37a4aff4-0632-40b1-9d9f-b6cea0028417",
   "metadata": {},
   "outputs": [],
   "source": [
    "# a1.\n",
    "brain_body = pd.read_csv('course_exercises_data/Brain_Bodyweight_Data.tsv', sep='\\t')\n",
    "metadata = pd.read_csv('course_exercises_data/Brain_Bodyweight_Metadata.tsv', sep='\\t')\n",
    "\n",
    "print(brain_body.head(2))\n",
    "print()\n",
    "print(metadata.head(2))\n",
    "print()\n",
    "print(brain_body.describe())\n",
    "print()\n",
    "print(metadata.describe())"
   ]
  },
  {
   "cell_type": "code",
   "execution_count": null,
   "id": "4ea09101-39d4-4c8f-b955-c724d4502155",
   "metadata": {},
   "outputs": [],
   "source": [
    "# a2.\n",
    "brain_body = pd.merge(brain_body, metadata, how='left', on='Species')\n",
    "brain_body.head()"
   ]
  },
  {
   "cell_type": "code",
   "execution_count": null,
   "id": "475f43da-f7bd-4910-81f8-9601cc9795a2",
   "metadata": {},
   "outputs": [],
   "source": [
    "# a3.\n",
    "brain_body.loc[:, 'Category'].value_counts()"
   ]
  },
  {
   "cell_type": "markdown",
   "id": "4167600b-ec27-43f8-8c50-e83928ea03d0",
   "metadata": {},
   "source": [
    "<hr>"
   ]
  },
  {
   "cell_type": "code",
   "execution_count": null,
   "id": "e0eb57e2-0b8b-4832-a585-79494ba6ffe0",
   "metadata": {},
   "outputs": [],
   "source": [
    "# b1.\n",
    "hobbies_indoor = pd.read_csv('course_exercises_data/Childrens_Indoor_Hobbies_During_Lockdown.csv')\n",
    "hobbies_outdoor = pd.read_csv('course_exercises_data/Childrens_Outdoor_Hobbies_During_Lockdown.csv')\n",
    "\n",
    "print(hobbies_indoor.head(2))\n",
    "print()\n",
    "print(hobbies_outdoor.head(2))\n",
    "\n",
    "hobbies = pd.concat([hobbies_indoor, hobbies_outdoor], axis=0)\n",
    "hobbies"
   ]
  },
  {
   "cell_type": "markdown",
   "id": "5aefabe7-e66d-45f7-9199-b35cb8d52ba5",
   "metadata": {},
   "source": [
    "<hr>"
   ]
  },
  {
   "cell_type": "code",
   "execution_count": null,
   "id": "6887087a-2860-474b-9f3c-3790eee12985",
   "metadata": {},
   "outputs": [],
   "source": [
    "# c1.\n",
    "penguins = sns.load_dataset(\"penguins\")\n",
    "penguins = penguins.loc[:, ['species', 'body_mass_g']]\n",
    "print(penguins.head())\n",
    "print()\n",
    "\n",
    "penguins_grouped = penguins.groupby(by='species')\n",
    "print(penguins_grouped)"
   ]
  },
  {
   "cell_type": "code",
   "execution_count": null,
   "id": "f8fd750a-c527-4b28-9e34-a8f4e13cf50a",
   "metadata": {},
   "outputs": [],
   "source": [
    "# c2.\n",
    "penguins_grouped.mean()"
   ]
  },
  {
   "cell_type": "markdown",
   "id": "d08075be-1aae-435a-b1ad-04cc24180cb1",
   "metadata": {},
   "source": [
    "<hr>"
   ]
  },
  {
   "cell_type": "markdown",
   "id": "9bdbb81b-0ce8-4b48-b3d7-70ce909d3aa0",
   "metadata": {},
   "source": [
    "<div class=\"alert alert-success\">\n",
    "\n",
    "## Exercise 17\n",
    "    \n",
    "**a1.**  Import the dataset \"Cuttlefish_Buoyancy.tsv\".  Edit the dataset to only include the columns:\\\n",
    "ID\\\n",
    "treatment\\\n",
    "hatching_date\\\n",
    "days_until_sampling\\\n",
    "floating\\\n",
    "density\n",
    "\n",
    "**a2.**  Split days/month/year for the hatching_date into separate columns.  Remove the original column.\n",
    "\n",
    "**a3.**  Edit the ID column so it comprises the current ID in addition to the treatment applied.  Drop the original treatment column.\n",
    "\n",
    "**a4.**  Observe how the cuttlefish DataFrame is structured after using `transpose()` method.  Transpose the data back again.\n",
    "\n",
    "**a5.**  Convert the cuttlefish DataFrame to long/tidy format.  Write the data to Excel an file.\n",
    "\n",
    "**a6.**  Convert the data back to wide format (notice the column/row labels have now changed).\n",
    "\n",
    "</div>"
   ]
  },
  {
   "cell_type": "code",
   "execution_count": null,
   "id": "e5f487a4-ea90-495d-be5c-d64a428b4cee",
   "metadata": {},
   "outputs": [],
   "source": [
    "# a1.\n",
    "cuttlefish = pd.read_csv('course_exercises_data/Cuttlefish_Buoyancy.tsv', sep='\\t')\n",
    "cuttlefish = cuttlefish.loc[:, ['ID', 'treatment', 'hatching_date', 'days_until_sampling',  'floating', 'density']]\n",
    "cuttlefish.head()"
   ]
  },
  {
   "cell_type": "code",
   "execution_count": null,
   "id": "1e03e3ef-6e6f-4586-9d61-3a0ac4b91341",
   "metadata": {},
   "outputs": [],
   "source": [
    "# a2.\n",
    "cuttlefish.loc[:, 'hatching_day'] = cuttlefish['hatching_date'].str.split('.', expand=True)[0]\n",
    "cuttlefish.loc[:, 'hatching_month'] = cuttlefish['hatching_date'].str.split('.', expand=True)[1]\n",
    "cuttlefish.loc[:, 'hatching_year'] = cuttlefish['hatching_date'].str.split('.', expand=True)[2]\n",
    "cuttlefish = cuttlefish.drop('hatching_date', axis=1)\n",
    "\n",
    "cuttlefish.head()\n",
    "\n",
    "# Note: this could be achieved more efficiently using dict-like notation"
   ]
  },
  {
   "cell_type": "code",
   "execution_count": null,
   "id": "ca38bafc-cb2b-4692-9755-d7b79fc4093c",
   "metadata": {},
   "outputs": [],
   "source": [
    "# a3.\n",
    "cuttlefish.loc[:, 'ID'] =  cuttlefish.loc[:, 'ID'] + cuttlefish.loc[:, 'treatment']\n",
    "cuttlefish.drop('treatment', axis=1, inplace=True)    # Notice inplace\n",
    "\n",
    "cuttlefish.tail()   # Used tail"
   ]
  },
  {
   "cell_type": "code",
   "execution_count": null,
   "id": "4320c975-b3b1-4101-93ff-e4213ebffc52",
   "metadata": {},
   "outputs": [],
   "source": [
    "# a4.\n",
    "cuttlefish = cuttlefish.transpose()    # Transpose\n",
    "cuttlefish.head()"
   ]
  },
  {
   "cell_type": "code",
   "execution_count": null,
   "id": "a887687a-3681-4f49-b9f3-84142aa1f608",
   "metadata": {},
   "outputs": [],
   "source": [
    "# a4. \n",
    "cuttlefish = cuttlefish.transpose()   # Transpose back\n",
    "cuttlefish.head()"
   ]
  },
  {
   "cell_type": "code",
   "execution_count": null,
   "id": "aa387875-27b9-4e11-bfaa-b0969eda23c2",
   "metadata": {},
   "outputs": [],
   "source": [
    "# a5.\n",
    "cuttlefish = pd.melt(cuttlefish, id_vars='ID', var_name='Metric', value_name='Value')\n",
    "cuttlefish"
   ]
  },
  {
   "cell_type": "code",
   "execution_count": null,
   "id": "3c7832d6-a45f-4c9a-90da-811f388e40a7",
   "metadata": {},
   "outputs": [],
   "source": [
    "# a5\n",
    "cuttlefish.to_excel('cuttlefish.xlsx', index=False)"
   ]
  },
  {
   "cell_type": "code",
   "execution_count": null,
   "id": "b5262c95-de19-4acd-9dd9-f14a94b665b7",
   "metadata": {
    "tags": []
   },
   "outputs": [],
   "source": [
    "# a6.\n",
    "cuttlefish = cuttlefish.pivot(index='ID', columns='Metric', values='Value')\n",
    "cuttlefish"
   ]
  },
  {
   "cell_type": "markdown",
   "id": "6d2914d9-fa7a-49d5-94fd-489baae8574d",
   "metadata": {},
   "source": [
    "<hr>"
   ]
  },
  {
   "cell_type": "markdown",
   "id": "19853fc1-75fe-43a6-99e1-a5c7c75e9411",
   "metadata": {
    "tags": []
   },
   "source": [
    "<div class=\"alert alert-success\">\n",
    "\n",
    "## Exercise 18\n",
    "    \n",
    "**a1.**  Import the Brain Bodyweight data file again.  Create 2 new columns that record the log<sub>2</sub> bodyweight and log<sub>2</sub> brain weight.\n",
    "\n",
    "**a2.**  Let's make a new column named Body.Weight.Classification.  Use `np.where()` to classify anything weighing less than 10kg as \"Small\" and anything else as \"Not_Small\".  Save the output in a format of your choosing.\n",
    "\n",
    "<hr>\n",
    "\n",
    "**b1.**  Go to the NumPy website: https://numpy.org.  Find out more about the mathematical operations and statistics tools available in this library.\n",
    "\n",
    "<hr>\n",
    "    \n",
    "**\\*c1.**  We are investigating whether 2 drugs give different outcomes when treating a disease.\n",
    "100 patients receive Drug A of which 41 are cured and 59 are not cured. \n",
    "100 patients receive Drug B, of which 62 are cured and 38 are not cured.\n",
    "\n",
    "Perform a two-sided Fisher's Exact test to decide whether the drugs have different treatment outcomes (significance threshold: p < 0.01)\n",
    "\n",
    "<hr>\n",
    "    \n",
    "**\\*d1.**  Take a look at the Scanpy (https://scanpy.readthedocs.io/en/stable/) documentation.\n",
    "\n",
    "</div>"
   ]
  },
  {
   "cell_type": "code",
   "execution_count": null,
   "id": "af68bb6b-3719-4a7f-bdf0-d22b9ab60504",
   "metadata": {
    "tags": []
   },
   "outputs": [],
   "source": [
    "# a1.\n",
    "import numpy as np\n",
    "\n",
    "brain_body = pd.read_csv('course_exercises_data/Brain_Bodyweight_Data.tsv', sep='\\t')\n",
    "brain_body.loc[:, 'Log2.Body.Weight.kg'] = np.log2(brain_body.loc[:, 'Body.Weight.kg'])\n",
    "brain_body.loc[:, 'Log2.Brain.Weight.g'] = np.log2(brain_body.loc[:, 'Brain.Weight.g'])\n",
    "brain_body.head()"
   ]
  },
  {
   "cell_type": "code",
   "execution_count": null,
   "id": "0edecf54-eeae-45ef-a6f0-8c404051a5df",
   "metadata": {},
   "outputs": [],
   "source": [
    "# a2.\n",
    "brain_body.loc[:, 'Body.Weight.Classification'] =  np.where(brain_body.loc[:, 'Body.Weight.kg'] < 10, 'Small', 'Not_Small')   # Alternative responses\n",
    "brain_body.head()"
   ]
  },
  {
   "cell_type": "code",
   "execution_count": null,
   "id": "aa443609-48e8-4a06-b7e7-52065af681b2",
   "metadata": {},
   "outputs": [],
   "source": [
    "brain_body.to_csv('brain_body_classification.csv', index=False)   # Look at file to see results"
   ]
  },
  {
   "cell_type": "markdown",
   "id": "7ee06f1d-557d-4c4b-a362-51814ce838fa",
   "metadata": {},
   "source": [
    "<hr>"
   ]
  },
  {
   "cell_type": "code",
   "execution_count": null,
   "id": "d34da9ea-0b6f-424a-8e11-c529c40a0f3d",
   "metadata": {},
   "outputs": [],
   "source": [
    "# *d1.\n",
    "from scipy.stats import fisher_exact\n",
    "\n",
    "trial_results = pd.DataFrame([[41, 59], [62, 38]])\n",
    "trial_results.columns = ['Cured', 'Not_Cured']\n",
    "trial_results.index = ['Drug_A', 'Drug_B']\n",
    "\n",
    "trial_results"
   ]
  },
  {
   "cell_type": "code",
   "execution_count": null,
   "id": "102b9acc-3043-4709-8168-756e57c38dd0",
   "metadata": {},
   "outputs": [],
   "source": [
    "fishers_results = fisher_exact(trial_results, alternative='two-sided')\n",
    "p_value = fishers_results[1]\n",
    "print(p_value)    # Therefore, the drugs DO perform differently (p < 0.01)"
   ]
  },
  {
   "cell_type": "markdown",
   "id": "7604d28c-b3ee-451a-8624-9bd38b14eb52",
   "metadata": {},
   "source": [
    "<hr>"
   ]
  },
  {
   "cell_type": "markdown",
   "id": "dbfd1abf-6892-44c1-ad1e-0263531f87df",
   "metadata": {
    "tags": []
   },
   "source": [
    "<div class=\"alert alert-success\">\n",
    "    \n",
    "## Exercise 19\n",
    "\n",
    "**a1.**  Import the dataset \"Biochemical_Oxygen_Demand.tsv\" into a DataFrame.  Use the DataFrame method `.plot()` to visualise the data.\n",
    "\n",
    "**a2.**  Now make a barplot using a DataFrame method.\n",
    "\n",
    "<hr>\n",
    "\n",
    "**b1.**  Import the Body weight vs Brain weight data you created earlier (if you were not able to generate this file in a previous exercise, you will find a copy of the file named \"pre_made_brain_body_classification.csv\" in the \"course_exercises_data\" folder.  Make a scatter plot using Seaborn of log<sub>2</sub> brain weight (y-axis) vs log<sub>2</sub> body weight (x-axis).\n",
    "\n",
    "**b2.**  Use the hue parameter to display Small / Not_Small animals in different colours.  Change the theme to \"dark\".\n",
    "\n",
    "**b3.**  Merge this dataset with its associated metadata, as we did in a previous exercise.  Now create a scatterplot which uses the hue to differentiate between Small / Not_Small animals and uses different shape (style) to distinguish between Wild/Extinct/Domesticated species.\n",
    "\n",
    "**b4.**  Now use a facet grid to explore how the brain/body weight relationship varies with our Wild/Extinct/Domesticated classification.\n",
    "\n",
    "**b5.**  Export the plot as PNG and SVG files.\n",
    "\n",
    "**b6.**  Use Plotly to make an interactive version of the first scatterplot you created.\n",
    "\n",
    "<hr>\n",
    "\n",
    "**\\*c1.**  Use NumPy to create 1000 random variables from a Normal distribution of mean=5, standard deviation=1.5.  Display these variables on a histogram.\n",
    "\n",
    "**\\*c2.**  Go to https://seaborn.pydata.org/examples/index.html and look at the code for graphs most relevant to your own work.  Can you make these plots for your own datasets?\n",
    "\n",
    "</div>"
   ]
  },
  {
   "cell_type": "code",
   "execution_count": null,
   "id": "a6785031-8750-4775-be65-3f94913fe35f",
   "metadata": {},
   "outputs": [],
   "source": [
    "# Reset to default plot sizes before starting exercises\n",
    "from matplotlib import pyplot as plt\n",
    "\n",
    "plt.rcParams[\"figure.figsize\"] = [6.4, 4.8]\n",
    "sns.set_theme()"
   ]
  },
  {
   "cell_type": "code",
   "execution_count": null,
   "id": "1be08e4b-a553-4bd7-9566-720bec24a7cc",
   "metadata": {},
   "outputs": [],
   "source": [
    "# a1.\n",
    "oxygen = pd.read_csv('course_exercises_data/Biochemical_Oxygen_Demand.tsv', sep='\\t')\n",
    "print(oxygen)\n",
    "oxygen.plot()"
   ]
  },
  {
   "cell_type": "code",
   "execution_count": null,
   "id": "bfc1a8b8-e568-4d72-8c35-5fac0fd986eb",
   "metadata": {},
   "outputs": [],
   "source": [
    "# a2.\n",
    "oxygen.plot(kind='bar', x='Time', y='Demand')"
   ]
  },
  {
   "cell_type": "markdown",
   "id": "7154c2d3-1c9e-4045-a25b-ce43c1ed7703",
   "metadata": {},
   "source": [
    "<hr>"
   ]
  },
  {
   "cell_type": "code",
   "execution_count": null,
   "id": "c1257cee-7a72-44bf-a7cf-3deeea3c096b",
   "metadata": {},
   "outputs": [],
   "source": [
    "# b1.\n",
    "brain_body = pd.read_csv('brain_body_classification.csv')\n",
    "sns.scatterplot(data=brain_body, x='Log2.Body.Weight.kg', y='Log2.Brain.Weight.g')"
   ]
  },
  {
   "cell_type": "code",
   "execution_count": null,
   "id": "2948b0dd-899d-40cb-8379-18ceb8174bd8",
   "metadata": {},
   "outputs": [],
   "source": [
    "# b2.\n",
    "sns.set_theme(style=\"dark\")\n",
    "\n",
    "sns.scatterplot(data=brain_body, \n",
    "                x='Log2.Body.Weight.kg', \n",
    "                y='Log2.Brain.Weight.g',\n",
    "                hue='Body.Weight.Classification')"
   ]
  },
  {
   "cell_type": "code",
   "execution_count": null,
   "id": "6e283eee-48cd-4f56-b03a-dd1302c3b16e",
   "metadata": {},
   "outputs": [],
   "source": [
    "# b3.\n",
    "brain_body_metadata = pd.read_csv('course_exercises_data/Brain_Bodyweight_Metadata.tsv', sep='\\t')\n",
    "brain_body = pd.merge(brain_body_metadata, brain_body, how='right', on='Species') \n",
    "\n",
    "sns.scatterplot(data=brain_body, \n",
    "                x='Log2.Body.Weight.kg', \n",
    "                y='Log2.Brain.Weight.g',\n",
    "                hue='Body.Weight.Classification',\n",
    "                style='Category'\n",
    "               )"
   ]
  },
  {
   "cell_type": "code",
   "execution_count": null,
   "id": "dfc8eef1-4e42-4043-b81d-35704e8e1770",
   "metadata": {},
   "outputs": [],
   "source": [
    "# b4.\n",
    "g = sns.FacetGrid(brain_body, col=\"Category\")\n",
    "g.map_dataframe(sns.scatterplot, x=\"Log2.Body.Weight.kg\", y=\"Log2.Brain.Weight.g\")\n",
    "g.add_legend()"
   ]
  },
  {
   "cell_type": "code",
   "execution_count": null,
   "id": "d3d7b27e-611b-4be5-988e-1623c6dd12aa",
   "metadata": {},
   "outputs": [],
   "source": [
    "# b5.\n",
    "g.savefig(fname='brain_body_facet.svg', format='svg', bbox_inches='tight', pad_inches=0.5)\n",
    "g.savefig(fname='brain_body_facet.png', format='png')"
   ]
  },
  {
   "cell_type": "code",
   "execution_count": null,
   "id": "30b400df-3d1a-42c4-b7b5-36ef50973783",
   "metadata": {},
   "outputs": [],
   "source": [
    "# b6.\n",
    "import plotly.express as px\n",
    "\n",
    "fig = px.scatter(brain_body,\n",
    "                    x='Log2.Body.Weight.kg', \n",
    "                    y='Log2.Brain.Weight.g',\n",
    "                    hover_name='Species',\n",
    "                )\n",
    "fig.show()"
   ]
  },
  {
   "cell_type": "code",
   "execution_count": null,
   "id": "ae35efd4-a987-4872-a01a-16523bf9f0aa",
   "metadata": {},
   "outputs": [],
   "source": [
    "# *c1.\n",
    "norm_vals = np.random.normal(5.0, 1.5, 1000)    # Mean, STD, count\n",
    "norm_vals = pd.DataFrame(norm_vals)\n",
    "norm_vals.hist()"
   ]
  }
 ],
 "metadata": {
  "kernelspec": {
   "display_name": "Python 3 (ipykernel)",
   "language": "python",
   "name": "python3"
  },
  "language_info": {
   "codemirror_mode": {
    "name": "ipython",
    "version": 3
   },
   "file_extension": ".py",
   "mimetype": "text/x-python",
   "name": "python",
   "nbconvert_exporter": "python",
   "pygments_lexer": "ipython3",
   "version": "3.10.10"
  }
 },
 "nbformat": 4,
 "nbformat_minor": 5
}
